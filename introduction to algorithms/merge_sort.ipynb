{
 "cells": [
  {
   "cell_type": "code",
   "execution_count": 13,
   "outputs": [],
   "source": [
    "def merge(a, b):\n",
    "    '''\n",
    "    左右两个数组排序成一个数组\n",
    "    :param a:\n",
    "    :param b:\n",
    "    :return:\n",
    "    '''\n",
    "    res = []\n",
    "    l = m = 0\n",
    "    while l < len(a) and m < len(b):\n",
    "        if a[l] < b[m]:\n",
    "            res.append(a[l])\n",
    "            l += 1\n",
    "        else:\n",
    "            res.append(b[m])\n",
    "            m += 1\n",
    "    if l == len(a):\n",
    "        for i in b[m:]:\n",
    "            res.append(i )\n",
    "    else:\n",
    "        for i in a[l:]:\n",
    "            res.append(i )\n",
    "    return res\n",
    "\n",
    "def merge_sort(arr):\n",
    "    '''\n",
    "    将数组分为左右两个，并送入排序函数merge\n",
    "    :param arr:\n",
    "    :return:\n",
    "    '''\n",
    "    if len(arr) <= 1:\n",
    "        return arr\n",
    "    mid = len(arr) // 2\n",
    "    left = merge_sort(arr[:mid])\n",
    "    right = merge_sort(arr[mid:])\n",
    "    return merge(left, right)"
   ],
   "metadata": {
    "collapsed": false,
    "pycharm": {
     "name": "#%%\n"
    }
   }
  },
  {
   "cell_type": "code",
   "source": [
    "merge_sort([1,2,4,56,76,45,32,13])"
   ],
   "metadata": {
    "collapsed": false,
    "pycharm": {
     "name": "#%%\n"
    }
   },
   "execution_count": 14,
   "outputs": [
    {
     "data": {
      "text/plain": "[1, 2, 4, 13, 32, 45, 56, 76]"
     },
     "execution_count": 14,
     "metadata": {},
     "output_type": "execute_result"
    }
   ]
  },
  {
   "cell_type": "code",
   "execution_count": null,
   "outputs": [],
   "source": [],
   "metadata": {
    "collapsed": false,
    "pycharm": {
     "name": "#%%\n"
    }
   }
  }
 ],
 "metadata": {
  "kernelspec": {
   "display_name": "Python 3",
   "language": "python",
   "name": "python3"
  },
  "language_info": {
   "codemirror_mode": {
    "name": "ipython",
    "version": 2
   },
   "file_extension": ".py",
   "mimetype": "text/x-python",
   "name": "python",
   "nbconvert_exporter": "python",
   "pygments_lexer": "ipython2",
   "version": "2.7.6"
  }
 },
 "nbformat": 4,
 "nbformat_minor": 0
}